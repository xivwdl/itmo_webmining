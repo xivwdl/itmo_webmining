{
 "cells": [
  {
   "cell_type": "markdown",
   "metadata": {
    "colab_type": "text",
    "id": "NlEIHLM_QZuN"
   },
   "source": [
    "## Знакомство с BeautifulSoup"
   ]
  },
  {
   "cell_type": "markdown",
   "metadata": {
    "colab_type": "text",
    "id": "W50WT4k5QhBV"
   },
   "source": [
    "Разобраться с документацией к BeautifulSoup. Потренироваться скачивать страницы с других сайтов, а не только с Википедии."
   ]
  },
  {
   "cell_type": "markdown",
   "metadata": {
    "colab_type": "text",
    "id": "jsJx8UsmQzzW"
   },
   "source": [
    "Разобратся с регулярными выражениями. Те, кто проходит курс на Coursera, имеет смысл начать сразу с недели 2, посмотрев обращение создателя Python на первой неделе. Особенно полезной будет книга: https://www.py4e.com/book\n",
    "Курс начинается с Chapter 11 Regular expressions"
   ]
  },
  {
   "cell_type": "markdown",
   "metadata": {
    "colab_type": "text",
    "id": "-0dY-kwI7Ixv"
   },
   "source": [
    "## Решение"
   ]
  },
  {
   "cell_type": "markdown",
   "metadata": {},
   "source": [
    "Сбор данных без использования BeautifulSoup на примере страницы проектов Государственного Эрмитажа - https://support.hermitagemuseum.org/ru/projects"
   ]
  },
  {
   "cell_type": "code",
   "execution_count": null,
   "metadata": {
    "colab": {
     "base_uri": "https://localhost:8080/",
     "height": 35
    },
    "colab_type": "code",
    "executionInfo": {
     "elapsed": 1853,
     "status": "ok",
     "timestamp": 1586629331477,
     "user": {
      "displayName": "Дмитрий Панов",
      "photoUrl": "https://lh4.googleusercontent.com/-Ke056J2wsFg/AAAAAAAAAAI/AAAAAAAAVgo/z5fZUFIgm8g/s64/photo.jpg",
      "userId": "16771818774255623256"
     },
     "user_tz": -180
    },
    "id": "SdDJspKN7FUp",
    "outputId": "a62b52d0-c262-4841-b9d6-663c5c12c22a"
   },
   "outputs": [],
   "source": [
    "import re\n",
    "html_h = urllib.request.urlopen('https://support.hermitagemuseum.org/ru/projects')\n",
    "herm = html_h.read().decode('utf-8')\n",
    "herm = str(herm)"
   ]
  },
  {
   "cell_type": "code",
   "execution_count": null,
   "metadata": {
    "colab": {
     "base_uri": "https://localhost:8080/",
     "height": 287
    },
    "colab_type": "code",
    "executionInfo": {
     "elapsed": 610,
     "status": "ok",
     "timestamp": 1586630429651,
     "user": {
      "displayName": "Дмитрий Панов",
      "photoUrl": "https://lh4.googleusercontent.com/-Ke056J2wsFg/AAAAAAAAAAI/AAAAAAAAVgo/z5fZUFIgm8g/s64/photo.jpg",
      "userId": "16771818774255623256"
     },
     "user_tz": -180
    },
    "id": "mBlH48bSRk7l",
    "outputId": "d70f1527-d35e-4ce3-e04c-59f96d8171ce"
   },
   "outputs": [
    {
     "name": "stdout",
     "output_type": "stream",
     "text": [
      "Спонсор проекта                                                         Реализованные проекты\n",
      " при поддержке индивидуальных членов Клуба Друзей Эрмитажа             |   9\n",
      " при поддержке Дома Cartier                                            |   4\n",
      " при поддержке индивидуальных участников Клуба Друзей Эрмитажа         |   3\n",
      " при поддержке ПАО «Газпром нефть»                                     |   2\n",
      " При поддержке компании «Гедеон Рихтер»                                |   1\n",
      " при поддержке Анонимного корпоративного мецената                      |   1\n",
      " при поддержке Благотворительный фонд «Илим – Гарант»                  |   1\n",
      " при поддержке ООО «Ювелирная группа “Смоленские бриллианты”»          |   1\n",
      " при поддержке ПАО «Газпром» (Россия) и OMV AG (Австрия)               |   1\n",
      " при поддержке Фонда Coca-Cola                                         |   1\n",
      " при поддержке компании &quot;Самсунг Электроникс Рус Компани&quot;    |   1\n",
      " при поддержке компании Deloitte                                       |   1\n",
      " при поддержке компании «Coca-Cola» и «Coca-Cola Foundation»           |   1\n",
      " при поддержке компании «Бейкер и Mакензи – Си-Ай-Эс, Лимитед»         |   1\n"
     ]
    }
   ],
   "source": [
    "import collections\n",
    "sponsor = sorted(re.findall('<span class=\"projects__item-company\">(.*?)</span>', herm))\n",
    "dict_sponsor = collections.Counter(sponsor)\n",
    "print('{: <70}  {: >3}'.format('Спонсор проекта', 'Реализованные проекты'))\n",
    "for row in dict_sponsor.most_common():    \n",
    "           print('{: <70} | {: >3}'.format(row[0], row[1]//2))"
   ]
  },
  {
   "cell_type": "markdown",
   "metadata": {
    "colab_type": "text",
    "id": "8NDIA2LFm6gy"
   },
   "source": [
    "Сбор данных с использованием BeautifulSoup на примере главной страницы The Art Newspaper Russia - http://www.theartnewspaper.ru/"
   ]
  },
  {
   "cell_type": "code",
   "execution_count": null,
   "metadata": {
    "colab": {},
    "colab_type": "code",
    "id": "XNcL00ECNeCn"
   },
   "outputs": [],
   "source": [
    "html_bf = urllib.request.urlopen('http://www.theartnewspaper.ru/')\n",
    "art = html_bf.read().decode('utf-8')\n",
    "art = str(art)\n",
    "\n",
    "soup_bf = BeautifulSoup(art, 'html5lib')"
   ]
  },
  {
   "cell_type": "code",
   "execution_count": null,
   "metadata": {
    "colab": {
     "base_uri": "https://localhost:8080/",
     "height": 397
    },
    "colab_type": "code",
    "executionInfo": {
     "elapsed": 872,
     "status": "ok",
     "timestamp": 1586630282470,
     "user": {
      "displayName": "Дмитрий Панов",
      "photoUrl": "https://lh4.googleusercontent.com/-Ke056J2wsFg/AAAAAAAAAAI/AAAAAAAAVgo/z5fZUFIgm8g/s64/photo.jpg",
      "userId": "16771818774255623256"
     },
     "user_tz": -180
    },
    "id": "Zn5zJpYuNw0i",
    "outputId": "dc5de61f-0d43-4f96-f140-a99f127ab791"
   },
   "outputs": [
    {
     "name": "stdout",
     "output_type": "stream",
     "text": [
      "Название статьи                                                                         Рубрика\n",
      "Ольга Шишко: «Первое, что мы сделаем, — расставим столы через залы музея»             | интервью\n",
      "Время покупать не выходя из дома                                                      | арт-рынок\n",
      "Лев Бакст, портрет художника в образе еврея                                           | книги\n",
      "Нуросмание, великая мечеть с барочными формами                                        | архитектура\n",
      "Художники создадут произведения по мотивам балконных концертов                        | новости\n",
      "Сергей Чобан: «Я работаю и продолжу работать в предложенных обстоятельствах»          | интервью\n",
      "Николай Панитков: «Бывает, увидишь доску старую и чувствуешь, что там что-то есть...» | иконы\n",
      "Столичный музей Пекина покажет выставку о коронавирусе                                | пекин китай\n",
      "Деcять новых фильмов о великих художниках                                             | новости\n",
      "Хранилище древностей, туристическая Мекка и двигатель экономики                       | россия\n",
      "Творение Шинкеля пришлось восстанавливать дважды                                      | берлин германия\n",
      "Сколько теряют российские музеи из-за коронавируса                                    | музей\n",
      "Приглашения                                                                           | приглашения\n",
      "Эрмитаж показывает музейных котов онлайн                                              | эрмитаж\n",
      "Позднесоветский модернизм остается самым незащищенным                                 | архитектура\n",
      "Минкультуры РФ внесло проект постановления о помощи музеям                            | музей\n",
      "Пострадавшим от землетрясения загребским музеям требуется эвакуация экспонатов        | новости\n",
      "Живые картины из всемирной изоляции                                                   | колонка\n",
      "Глава Private Banking «Открытие»: как инвестировать в искусство                       | промо\n"
     ]
    }
   ],
   "source": [
    "names = [names.string.strip() for names in soup_bf.find_all(\"a\",\"post__title\")]\n",
    "topics = [topics.string.strip() for topics in soup_bf.find_all(\"div\", \"post__section\")]\n",
    "events = dict(zip(name, topics))\n",
    "\n",
    "print('{: <85}  {: >3}'.format('Название статьи', ' Рубрика'))\n",
    "for k,v in events.items():   \n",
    "           print('{: <85} | {: >3}'.format(k, v))"
   ]
  }
 ],
 "metadata": {
  "colab": {
   "collapsed_sections": [],
   "name": "panov_1.ipynb",
   "provenance": [
    {
     "file_id": "1DxJbOMdevLgs6OCxEC5ZyJ8YfwaIg2CA",
     "timestamp": 1586598368898
    }
   ],
   "toc_visible": true
  },
  "kernelspec": {
   "display_name": "Python 3",
   "language": "python",
   "name": "python3"
  },
  "language_info": {
   "codemirror_mode": {
    "name": "ipython",
    "version": 3
   },
   "file_extension": ".py",
   "mimetype": "text/x-python",
   "name": "python",
   "nbconvert_exporter": "python",
   "pygments_lexer": "ipython3",
   "version": "3.7.6"
  }
 },
 "nbformat": 4,
 "nbformat_minor": 4
}
