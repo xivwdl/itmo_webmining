{
 "cells": [
  {
   "cell_type": "markdown",
   "metadata": {
    "colab_type": "text",
    "id": "-3NB55UuTv_d"
   },
   "source": [
    "# Обработка XML"
   ]
  },
  {
   "cell_type": "markdown",
   "metadata": {
    "colab_type": "text",
    "id": "XWaqcfJxLW_2"
   },
   "source": [
    "### Задание 1\n",
    "\n",
    "Для доступного по ссылке https://stepik.org/media/attachments/lesson/245678/map1.osm фрагмента карты посчитайте, сколько node имеет хотя бы один вложенный тэг tag, а сколько - не имеют. В качестве ответа введите два числа, разделённых пробелом."
   ]
  },
  {
   "cell_type": "code",
   "execution_count": null,
   "metadata": {
    "colab": {},
    "colab_type": "code",
    "id": "cG86XU30HzgQ"
   },
   "outputs": [],
   "source": [
    "import requests\n",
    "from bs4 import BeautifulSoup\n",
    "osm = requests.get('https://stepik.org/media/attachments/lesson/245678/map1.osm').text\n",
    "soup = BeautifulSoup(osm, 'lxml-xml')"
   ]
  },
  {
   "cell_type": "code",
   "execution_count": null,
   "metadata": {
    "colab": {
     "base_uri": "https://localhost:8080/",
     "height": 51
    },
    "colab_type": "code",
    "executionInfo": {
     "elapsed": 441,
     "status": "ok",
     "timestamp": 1588096700601,
     "user": {
      "displayName": "Дмитрий Панов",
      "photoUrl": "https://lh4.googleusercontent.com/-Ke056J2wsFg/AAAAAAAAAAI/AAAAAAAAVgo/z5fZUFIgm8g/s64/photo.jpg",
      "userId": "16771818774255623256"
     },
     "user_tz": -180
    },
    "id": "h0EJmyDOkcQu",
    "outputId": "0e19d5ce-b4db-4cd2-a0a6-9407b8311cdd"
   },
   "outputs": [
    {
     "name": "stdout",
     "output_type": "stream",
     "text": [
      "С тегом: 316\n",
      "Без тега: 6166\n"
     ]
    }
   ],
   "source": [
    "without_tag = 0\n",
    "with_tag = 0\n",
    "\n",
    "for node in soup.find_all('node'):\n",
    "    if node.find('tag') is None:\n",
    "        without_tag += 1\n",
    "    else:\n",
    "        with_tag += 1\n",
    "print(f'С тегом: {with_tag}\\nБез тега: {without_tag}')"
   ]
  },
  {
   "cell_type": "markdown",
   "metadata": {
    "colab_type": "text",
    "id": "BzsxJdSDoSV7"
   },
   "source": [
    "### Задание 2\n",
    "\n",
    "Вася решил открыть АЗС (заправку). Чтобы оценить уровень конкуренции он хочет изучить количество заправок в интересующем его районе. Вася скачал интересующий его кусок карты OSM и хочет посчитать, сколько на нём отмечено точечных объектов (node), являющихся заправкой. В качестве ответа вам необходимо вывести одно число - количество АЗС."
   ]
  },
  {
   "cell_type": "code",
   "execution_count": null,
   "metadata": {
    "colab": {},
    "colab_type": "code",
    "id": "ZHqBEZeuobdB"
   },
   "outputs": [],
   "source": [
    "osm = requests.get('https://stepik.org/media/attachments/lesson/245681/map2.osm').text\n",
    "soup = BeautifulSoup(osm, 'lxml-xml')"
   ]
  },
  {
   "cell_type": "code",
   "execution_count": null,
   "metadata": {
    "colab": {
     "base_uri": "https://localhost:8080/",
     "height": 34
    },
    "colab_type": "code",
    "executionInfo": {
     "elapsed": 605,
     "status": "ok",
     "timestamp": 1588096741627,
     "user": {
      "displayName": "Дмитрий Панов",
      "photoUrl": "https://lh4.googleusercontent.com/-Ke056J2wsFg/AAAAAAAAAAI/AAAAAAAAVgo/z5fZUFIgm8g/s64/photo.jpg",
      "userId": "16771818774255623256"
     },
     "user_tz": -180
    },
    "id": "8s7d_cEEr9Q1",
    "outputId": "a4c7c927-1ae0-47b8-aa2d-c6abbbdc3515"
   },
   "outputs": [
    {
     "name": "stdout",
     "output_type": "stream",
     "text": [
      "15\n"
     ]
    }
   ],
   "source": [
    "cnt = 0\n",
    "for node in soup.find_all('node'):\n",
    "    if node.find('tag', k='amenity', v='fuel'):\n",
    "        cnt += 1\n",
    "print(cnt)"
   ]
  },
  {
   "cell_type": "markdown",
   "metadata": {
    "colab_type": "text",
    "id": "5KSETPRixJe0"
   },
   "source": [
    "### Задание 3\n",
    "\n",
    "Вася, открывший заправку в прошлом уроке, разорился. Конкуренция оказалась слишком большой. Вася предполагает, что это произошло от того, что теги заправки могут быть не только на точке, но и на каком-то контуре. Определите, сколько заправок на самом деле (не только обозначенных точкой) есть на фрагменте карты"
   ]
  },
  {
   "cell_type": "code",
   "execution_count": null,
   "metadata": {
    "colab": {
     "base_uri": "https://localhost:8080/",
     "height": 34
    },
    "colab_type": "code",
    "executionInfo": {
     "elapsed": 23425,
     "status": "ok",
     "timestamp": 1588096769018,
     "user": {
      "displayName": "Дмитрий Панов",
      "photoUrl": "https://lh4.googleusercontent.com/-Ke056J2wsFg/AAAAAAAAAAI/AAAAAAAAVgo/z5fZUFIgm8g/s64/photo.jpg",
      "userId": "16771818774255623256"
     },
     "user_tz": -180
    },
    "id": "UipeHuNzxIix",
    "outputId": "ddf044ae-eae0-4cf9-93b9-f24ea47fb466"
   },
   "outputs": [
    {
     "name": "stdout",
     "output_type": "stream",
     "text": [
      "27\n"
     ]
    }
   ],
   "source": [
    "osm = requests.get('https://stepik.org/media/attachments/lesson/245681/map2.osm').text\n",
    "soup = BeautifulSoup(osm, 'lxml-xml')\n",
    "print(len(soup.find_all('tag', k='amenity', v='fuel')))"
   ]
  },
  {
   "cell_type": "markdown",
   "metadata": {
    "colab_type": "text",
    "id": "LowhutEmy_E1"
   },
   "source": [
    "# Работа с OSM"
   ]
  },
  {
   "cell_type": "markdown",
   "metadata": {
    "colab_type": "text",
    "id": "NT7hEySdcQsS"
   },
   "source": [
    "### Задание\n",
    "\n",
    "Экспортируйте с OSM часть карты, на которой находитесь вы (или любую другую интересную вам).\n",
    "\n",
    "Посчитайте на карте объекты какого-либо типа. "
   ]
  },
  {
   "cell_type": "code",
   "execution_count": null,
   "metadata": {
    "colab": {},
    "colab_type": "code",
    "id": "4ZStM1xG1ia4"
   },
   "outputs": [],
   "source": [
    "# Для выполнения задания была экспортирована карта с Новой Голландией и \n",
    "# территорией вокруг нее: https://www.openstreetmap.org/export#map=16/59.9302/30.2915\n",
    "\n",
    "# И посчитано кол-во зданий разного типа на фрагменте\n",
    "\n",
    "with open('map.osm', 'r', encoding='utf8') as f:\n",
    "    xml = BeautifulSoup(f.read(), 'lxml-xml')"
   ]
  },
  {
   "cell_type": "markdown",
   "metadata": {
    "colab_type": "text",
    "id": "KyPeV-uOAD8a"
   },
   "source": [
    "### Считаем кол-во зданий разного типа"
   ]
  },
  {
   "cell_type": "code",
   "execution_count": null,
   "metadata": {
    "colab": {},
    "colab_type": "code",
    "id": "let6Ay6G10Ha"
   },
   "outputs": [],
   "source": [
    "build_all = xml.find_all('tag', k='building')\n",
    "build_live = xml.find_all('tag', k='building', v=['apartments', 'bungalow',\n",
    "                                                  'cabin', 'detached', 'ger',\n",
    "                                                  'dormitory', 'farm', 'hotel',\n",
    "                                                  'house', 'houseboat', 'residential',\n",
    "                                                  'semidetached_house', 'static_caravan',\n",
    "                                                  'terrace'])\n",
    "\n",
    "build_com = xml.find_all('tag', k='building', v=['commercial', 'industrial',\n",
    "                                                 'kiosk', 'office', 'retail',\n",
    "                                                 'supermarket', 'warehouse'])\n",
    "\n",
    "build_rel = xml.find_all('tag', k='building', v=['cathedral', 'chapel', 'church',\n",
    "                                                 'mosque', 'religious', 'shrine',\n",
    "                                                 'synagogue', 'temple'])\n",
    "\n",
    "build_publ = xml.find_all('tag', k='building', v=['bakehouse', 'civic',\n",
    "                                                  'fire_station', 'government',\n",
    "                                                  'hospital', 'kindergarten', 'public',\n",
    "                                                  'school', 'toilets', 'train_station',\n",
    "                                                  'transportation', 'university'])\n",
    "\n",
    "build_sport = xml.find_all('tag', k='building', v=['grandstand', 'pavilion', 'riding_hall',\n",
    "                                                 'sports_hall', 'stadium'])\n",
    "\n",
    "build_car = xml.find_all('tag', k='building', v=['carport', 'garage', 'garages',\n",
    "                                                 'parking'])\n",
    "\n",
    "build_tech = xml.find_all('tag', k='building', v=['digester', 'service', 'transformer_tower',\n",
    "                                                 'water_tower'])\n",
    "\n",
    "build_oth = xml.find_all('tag', k='building', v=['bunker', 'bridge', 'construction',\n",
    "                                                 'roof', 'ruins'])\n",
    "\n",
    "build_non = xml.find_all('tag', k='building', v=['yes'])"
   ]
  },
  {
   "cell_type": "code",
   "execution_count": 4,
   "metadata": {
    "colab": {
     "base_uri": "https://localhost:8080/",
     "height": 221
    },
    "colab_type": "code",
    "executionInfo": {
     "elapsed": 570,
     "status": "ok",
     "timestamp": 1588597126551,
     "user": {
      "displayName": "Дмитрий Панов",
      "photoUrl": "https://lh4.googleusercontent.com/-Ke056J2wsFg/AAAAAAAAAAI/AAAAAAAAVgo/z5fZUFIgm8g/s64/photo.jpg",
      "userId": "16771818774255623256"
     },
     "user_tz": -180
    },
    "id": "kjrgEBkc8iUg",
    "outputId": "0c278f0a-268d-4836-ece5-18cdea588893"
   },
   "outputs": [
    {
     "name": "stdout",
     "output_type": "stream",
     "text": [
      "Общее кол-во зданий: 389\n",
      "\n",
      "Тип здания            Кол-во\n",
      "Нет типа             |   347\n",
      "Коммерческие         |    14\n",
      "Технические          |    11\n",
      "Жилые                |     6\n",
      "Общественные         |     6\n",
      "Гаражи/Парковки      |     4\n",
      "Другие               |     1\n",
      "Религиозные          |     0\n",
      "Стадионы/Спортзалы   |     0\n"
     ]
    }
   ],
   "source": [
    "build = {'Нет типа': len(build_non),\n",
    "         'Коммерческие': len(build_com),\n",
    "         'Технические': len(build_tech),\n",
    "         'Жилые': len(build_live),\n",
    "         'Общественные': len(build_publ),\n",
    "         'Гаражи/Парковки': len(build_car),\n",
    "         'Другие': len(build_oth),\n",
    "         'Религиозные': len(build_rel),\n",
    "         'Стадионы/Спортзалы': len(build_sport)\n",
    "         }\n",
    "print(f'Общее кол-во зданий: {len(build_all)}\\n')\n",
    "print('{: <20}  {: >3}'.format('Тип здания', 'Кол-во'))\n",
    "for k,v in build.items():\n",
    "    print('{: <20} | {: >5}'.format(k, v))"
   ]
  },
  {
   "cell_type": "markdown",
   "metadata": {
    "colab_type": "text",
    "id": "2GUSD4eE_50w"
   },
   "source": [
    "### Считаем кол-во категорий у зданий"
   ]
  },
  {
   "cell_type": "code",
   "execution_count": null,
   "metadata": {
    "colab": {},
    "colab_type": "code",
    "id": "XN9o3u4GxH5A"
   },
   "outputs": [],
   "source": [
    "from collections import Counter\n",
    "\n",
    "tags = {}\n",
    "for i in range(len(build_all)):\n",
    "    t = len([build_all[i]['v']])\n",
    "    tags[f'Здание №{i}'] = t\n",
    "\n",
    "val = tags.values()\n",
    "count_tag = dict(Counter(val))"
   ]
  },
  {
   "cell_type": "code",
   "execution_count": 78,
   "metadata": {
    "colab": {
     "base_uri": "https://localhost:8080/",
     "height": 85
    },
    "colab_type": "code",
    "executionInfo": {
     "elapsed": 560,
     "status": "ok",
     "timestamp": 1588600953584,
     "user": {
      "displayName": "Дмитрий Панов",
      "photoUrl": "https://lh4.googleusercontent.com/-Ke056J2wsFg/AAAAAAAAAAI/AAAAAAAAVgo/z5fZUFIgm8g/s64/photo.jpg",
      "userId": "16771818774255623256"
     },
     "user_tz": -180
    },
    "id": "ZMbmCOn66UA6",
    "outputId": "87ffcf1c-6953-4af7-ef87-81e96a2a6886"
   },
   "outputs": [
    {
     "name": "stdout",
     "output_type": "stream",
     "text": [
      "Общее кол-во зданий: 389\n",
      "\n",
      "Кол-во категорий   Кол-во зданий\n",
      "               1 |           389\n"
     ]
    }
   ],
   "source": [
    "print(f'Общее кол-во зданий: {len(build_all)}\\n')\n",
    "print('{: <12}  {: >14}'.format('Кол-во категорий', 'Кол-во зданий'))\n",
    "for k,v in count_tag.items():\n",
    "    print('{: >16} | {: >13}'.format(k, v))"
   ]
  },
  {
   "cell_type": "markdown",
   "metadata": {
    "colab_type": "text",
    "id": "npK-klwjIqhD"
   },
   "source": [
    "# Продолжаем работу с BeautifulSoup\n",
    "\n",
    "### Задание 1\n",
    "\n",
    "Вашей программе на вход подаются две строки, содержащие url двух документов A и B. Выведите Yes, если из A в B можно перейти за два перехода, иначе выведите No."
   ]
  },
  {
   "cell_type": "code",
   "execution_count": null,
   "metadata": {
    "colab": {},
    "colab_type": "code",
    "id": "M67_YtN9A9JN"
   },
   "outputs": [],
   "source": [
    "def search_link(l):\n",
    "    soup = BeautifulSoup(requests.get(l).text, 'html5lib')\n",
    "    return [a['href'] for a in soup.find_all('a', href=True)]"
   ]
  },
  {
   "cell_type": "code",
   "execution_count": null,
   "metadata": {
    "colab": {
     "base_uri": "https://localhost:8080/",
     "height": 34
    },
    "colab_type": "code",
    "executionInfo": {
     "elapsed": 1880,
     "status": "ok",
     "timestamp": 1588152110020,
     "user": {
      "displayName": "Дмитрий Панов",
      "photoUrl": "https://lh4.googleusercontent.com/-Ke056J2wsFg/AAAAAAAAAAI/AAAAAAAAVgo/z5fZUFIgm8g/s64/photo.jpg",
      "userId": "16771818774255623256"
     },
     "user_tz": -180
    },
    "id": "MYL-h-k7DdAR",
    "outputId": "311d48c4-d8ef-40a4-9754-0b9b5d8561ae"
   },
   "outputs": [
    {
     "name": "stdout",
     "output_type": "stream",
     "text": [
      "Yes\n"
     ]
    }
   ],
   "source": [
    "# test 1\n",
    "start = 'https://stepic.org/media/attachments/lesson/24472/sample0.html'\n",
    "end = 'https://stepic.org/media/attachments/lesson/24472/sample2.html'\n",
    "\n",
    "url = search_link(start)\n",
    "if end in url:\n",
    "    print('No')\n",
    "else:\n",
    "    for i in url:\n",
    "        url_2 = search_link(i)\n",
    "        if end in url_2:\n",
    "            print('Yes')"
   ]
  },
  {
   "cell_type": "code",
   "execution_count": null,
   "metadata": {
    "colab": {
     "base_uri": "https://localhost:8080/",
     "height": 34
    },
    "colab_type": "code",
    "executionInfo": {
     "elapsed": 1249,
     "status": "ok",
     "timestamp": 1588151966736,
     "user": {
      "displayName": "Дмитрий Панов",
      "photoUrl": "https://lh4.googleusercontent.com/-Ke056J2wsFg/AAAAAAAAAAI/AAAAAAAAVgo/z5fZUFIgm8g/s64/photo.jpg",
      "userId": "16771818774255623256"
     },
     "user_tz": -180
    },
    "id": "rZhEIKVLOi2d",
    "outputId": "dab70dc7-e405-4a43-9d4d-3a77a9335895"
   },
   "outputs": [
    {
     "name": "stdout",
     "output_type": "stream",
     "text": [
      "No\n"
     ]
    }
   ],
   "source": [
    "# test 2\n",
    "start = 'https://stepic.org/media/attachments/lesson/24472/sample0.html'\n",
    "end = 'https://stepic.org/media/attachments/lesson/24472/sample1.html'\n",
    "\n",
    "url = search_link(start)\n",
    "if end in url:\n",
    "    print('No')\n",
    "else:\n",
    "    for i in url:\n",
    "        url_2 = search_link(i)\n",
    "        if end in url_2:\n",
    "            print('Yes')\n",
    "            break"
   ]
  },
  {
   "cell_type": "markdown",
   "metadata": {
    "colab_type": "text",
    "id": "XwYX0IpyFpqL"
   },
   "source": [
    "### Задание 2\n",
    "\n",
    "Вашей программе на вход подается ссылка на HTML файл. Вам необходимо скачать этот файл, затем найти в нем все ссылки вида <a ... href=\"...\" ... > и вывести список сайтов, на которые есть ссылка."
   ]
  },
  {
   "cell_type": "code",
   "execution_count": null,
   "metadata": {
    "colab": {},
    "colab_type": "code",
    "id": "hLC7Ht7UFmvQ"
   },
   "outputs": [],
   "source": [
    "import re\n",
    "link = \"\"\"<a href=\"http://stepic.org/courses\">\n",
    "<a href='https://stepic.org'>\n",
    "<a href='http://neerc.ifmo.ru:1345'>\n",
    "<a href=\"ftp://mail.ru/distib\" >\n",
    "<a href=\"ya.ru\">\n",
    "<a href=\"www.ya.ru\">\n",
    "<a href=\"../skip_relative_links\">\"\"\"\n",
    "\n",
    "soup_html = BeautifulSoup(link, 'html5lib')"
   ]
  },
  {
   "cell_type": "code",
   "execution_count": null,
   "metadata": {
    "colab": {
     "base_uri": "https://localhost:8080/",
     "height": 85
    },
    "colab_type": "code",
    "executionInfo": {
     "elapsed": 990,
     "status": "ok",
     "timestamp": 1588508548473,
     "user": {
      "displayName": "Дмитрий Панов",
      "photoUrl": "https://lh4.googleusercontent.com/-Ke056J2wsFg/AAAAAAAAAAI/AAAAAAAAVgo/z5fZUFIgm8g/s64/photo.jpg",
      "userId": "16771818774255623256"
     },
     "user_tz": -180
    },
    "id": "QAM7zKP0JdRS",
    "outputId": "719c53fc-ba89-4e43-a934-6a04eaf574e9"
   },
   "outputs": [
    {
     "name": "stdout",
     "output_type": "stream",
     "text": [
      "mail.ru\n",
      "neerc.ifmo.ru\n",
      "stepic.org\n",
      "ya.ru\n"
     ]
    }
   ],
   "source": [
    "domain = []\n",
    "for a in soup_html('a', href=True):\n",
    "    d = re.findall('(?:www\\.)*((?:[\\w]+\\.)+\\w+)/*', a['href'])\n",
    "    if len(d) > 0 and d[0] not in domain:\n",
    "        domain.append(d[0])\n",
    "for i in sorted(domain):\n",
    "    print(i)"
   ]
  }
 ],
 "metadata": {
  "colab": {
   "collapsed_sections": [],
   "name": "panov_3.ipynb",
   "provenance": [
    {
     "file_id": "1qxdAV7yb_IQTrhjDM_SezZ6ksSE_s5Xh",
     "timestamp": 1587385558823
    }
   ],
   "toc_visible": true
  },
  "kernelspec": {
   "display_name": "Python 3",
   "language": "python",
   "name": "python3"
  },
  "language_info": {
   "codemirror_mode": {
    "name": "ipython",
    "version": 3
   },
   "file_extension": ".py",
   "mimetype": "text/x-python",
   "name": "python",
   "nbconvert_exporter": "python",
   "pygments_lexer": "ipython3",
   "version": "3.7.6"
  }
 },
 "nbformat": 4,
 "nbformat_minor": 4
}
